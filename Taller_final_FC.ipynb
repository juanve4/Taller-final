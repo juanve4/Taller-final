{
  "nbformat": 4,
  "nbformat_minor": 0,
  "metadata": {
    "colab": {
      "provenance": []
    },
    "kernelspec": {
      "name": "python3",
      "display_name": "Python 3"
    },
    "language_info": {
      "name": "python"
    }
  },
  "cells": [
    {
      "cell_type": "markdown",
      "source": [
        "**TALLER FINAL FINANZAS COMPUTACIONALES 2023**\n",
        "\n",
        "\n",
        "Integrantes:\n",
        "1.   Juan David Velasquez Hurtado\n",
        "2.   Nicolas Lopez Sarmiento\n",
        "3.   Ricardo Andres Aguilera \n",
        "\n",
        "\n",
        "**Caso de aplicación: Portafolio de proyectos y decisión de inversión**\n",
        "\n",
        "**Base teórica:** criterios de decisiones de inversión (VPN)\n",
        "\n",
        "Problema a tratar:\n",
        "La empresa tiene los siguientes proyectos en los que puede invertir 18 millones (USD) en cada año. Cada proyecto tiene un VPN y recursos requeridos para cada año (en millones USD), como se muestra a continuación:\n",
        "\n",
        "![tffc.png](data:image/png;base64,iVBORw0KGgoAAAANSUhEUgAAAnsAAAD2CAYAAACuhUG4AAAAAXNSR0IArs4c6QAAAARnQU1BAACxjwv8YQUAAAAJcEhZcwAAEnQAABJ0Ad5mH3gAAEEVSURBVHhe7Z09ciVJ9b5b/CNwcDBwCU2vADZACFYA3pg9bIAt9PQSYAONzPHYwdDBQoYOXAwwcDD4/fMp3Vd9lDpZt65Un3nfJyJVVVmZWaX35MeprI9783+FN8YYY4wxpkt+dFoaY4wxxpgOsbNnjDHGGNMxdvaMMcYYYzrGzp4xxhhjTMfY2TPGGGOM6Rg7e8YYY4wxHZN+euW7775787///e+0ZYwxxhhj9siPfvSjN19//fVpK6fp7P39738/bRljjDHGmD3y1VdfvczZM8YYY4wxfeBn9owxxhhjOsbOnjHGGGNMx/g2rumCb7/99rT2dD1Sp/nzn/+cPpvK8w/wzTffDEsR02fHUNyvf/3rIVwTtbZjoOFf//rXQSO0Zh2W1Oz3v//9sHz//v2jfXtir/qrzXz+/PnN3d3dszbVC3vVn7IJHIewZBvbgpfoLh2kzbl8r4Xyqf/v3r3bVn+cPWOOTmlEXLQM4fvvvz/FPkX7y4AzbMc8WWD/Dz/8MKSFmL44DafYL5ROpLmvZz5+/PioC6Glv4hppRllLEW0W7RnL+xRf3TO2hfH680GR9K/t77pkv9NWhO0rrFgKShfxzxXL5bGt3FNFzBjI7haq2GGQXCFVcOMA6F0kKeYh3I+fPhw2nrK/f39cKVo3rz59OnTae2BlmaApuhcBqM3ZYAb9MZ2xC0BV9VZfeiJPerPTKp0j+XTZn7zm98M672wR/05h0z/GH90Yp8O9Mkt+J+LgzfoXpyuR90JS8Ex63PclJPTZ8yh4UqW6kzgqq0mXtWJ0uDT9JSV7VOcAtsRHaN0IKeY60B66P9nOfUqFq2nMDWd4Pg6nxguLecI6H/bk/46p+JknGL+b2gXiu8J/U970l/nohlD8qv/6qV/inqzJGyteySe1yXnthSe2TNdUBrW41Wans2IaBZuyhU0ZRGAfK0ZPI7Ry1XyS4lXrsxUQKY/MNtzc3PzOOvD+tu3b4clsz21zmwrj9KxnKI5achfBrjZZ032xB71J18Z2IbzibPoalNQH+uo7LX+FydlCKr7aK980Q5HBd2lV5ydy2ZVmd2P2tV6ZnUx5tHykmf7ZE/6n91wcvqMOTxcOVGlCfHqlatbxccrNV3pls7vFPMAaYhTHhHTa3/Mq7herpynIE00g9PSFEijfVoqfSwDsEHcpzxaP3eVjM2VpmX/HpAue9M/Y+zcjop02bP+9EfxmD0gLQlxm/+vbuP8/9qnZdSW9UhLd8KUvl3jkM5FeV/SZubEzp7pCjVUGppQXKtRq/ErqHESYgesfSyjA6E06hiuxdlTp0ZAD4i61J1b7KC1Lw5qLEVMq7JJK42jfc/Rq7N3FP0hO/bROYr+KofQi/b6f9AJoi3q/lfOXr1Pukcts7TRRqRluwX7lJ9zqre3xM6e6YrYWNW4tK1OU6gBt0LsfEHpFR87AI6ljjh2KD0TByQRO7davyw9KD52utJSnbnI7HuOOACPddRH4yj6x+PW53RkjqI/eZSPclk/Mq32HPvjSNQspo/xQmXEOEBrxdfjSET5ZbdYH6baayn8zJ7pitLITmsPb2fFZ2pKQzytPac0/MdQGvPjW1tjkA54NmPsDbxekbalcx2eUSHwjJHg+Zjs+SLSn0PP0fBttki0b/aszTVxTn/02Vp/zkfnSfs716aOxFL6k28u/YFnzQj0beQZe2v1CMS+Fr2lvfRgmekOUfvMDsoXdYaYtqU79UH5sRvbqiPAvri9Nnb2TFfQKOXU0bjUsdF4W50s8eoQCWNpI6SRw8expna+PRA7LXWuCpGXDCxRx/qzFnX518oU/RV/KXPpfw2OHsytf+Sl+uvY0Zbq0+Y4r62o/ye2FWL8Sy++NXbEsiDq1RobYh7qPiGeB+tbOtp29kx36A3A2KnVV8hzQeegDuKaiJ0WDm8dosN9KXSmrfxx8LtG3cVU/V8yuMyhP/l6dfRgz/rT7/H2KLNd0dmIeVsOy96JeuouTKY7GtQO2xQ0TtR5p2gnu9VBsH+pcWgSp9u5xnRDfE5CIaM0xGFfaYSnmHGUnmWEZzHisUondNrTJ1Hfb6pnigQaKA36AGnZrvXO4kvH/ZifeNKwVNwlGsey4jM7R+UI+se0WTiyHY6gf+zbyKtjEOr+60jof+D/yYh9sTSKtohEjUW0baZ767gtYnmqB1thZ890iTq7sQYaO8QpKH3WWcbO9FxHfHTi/9rqwGInJ72Ur9a7FR874xgu1bc3Zy/q3/p/ttQ/DritcGQ77F1/4Pjqr2LI+q6jEPVgPSPqLj0vcfYglhHDS7SLZW3t7N3wp5yIMV0Rb+GWRppOves2E/tIc46x9FOO1wvxeaUyUJ3WnlOnQx90qvVrxQPxMVDOpdqST7YZO9+jcKn+0nUt/VXeGEe2w971j+gcyEvZdflHItarMd3rdK18xLEP6vLYF8OluouxY6yNnT1jjDHGmI7xCxrGGGOMMR1jZ88YY4wxpmPS27jffffdmz/96U+nLWOMMcYYs0f+8Ic/vPn6669PWzmps/ef//zntGaMMcYYY/bMT37yk9Najl/QMMYYY4zpGD+zZ4wxxhjTMXb2OoJv+hhzRFx3jTFmOXbj7PHxx5ubmzTwO3/8QP3R4eOK+sDi3PCjy/wWohkHpwKtVK/G6hbx7O+pDu4R6i02yaC9sL+3vmDvoDt6W+ttsP7rwZigvl5hqXF6S3Y3s8dXpt+/f/8k8OVqftC5NSAcAZzZpZwxdIlfdTdtpBX16uPph7OpW7V+NH7i3717N/yIO0u23fnOC/Zodaxy9OiMZS/1BbbDsqCx2Q7rvx70Qff390MfTx+juO4cPl7Q2AP6nTqWNfF3/rb+fbmXov9vzvOPupRB8NlvK5qnZHVMGkbt9HuG5cLjFPNAnc68HNpBrLus1xDPfuwhMnuZeaHeS/viZJ9izVpY//WgH0LnbEzI+qQjc4hn9krFH7xukLfNktkY3ZbjSj8+98M2QTM5cR956/SCtPWsgeKysiIqt74qYJ0rB2BJGRHyTCm/hlkPymbmCY3MOKXxDldu8TcKpVtdP4DZpAjbpIu2NS9DbWSs7mIvNI/7WSdgh6ntxEwHm9AH1XXfrIP1XxeNy/WYcHd3N9iiqz7m5PRtTjbrEuFqJ+7X1Q/eN/EEzQAoLu5nXbNqrZkbIF2Mj/l1zFiWqNNpHTjner84d65jlA7htOZZp5eCzmgebSL71ajeRN3Ny4jtnLpLmAr1PLOPeT2q367r22D910Xjbo38kSnj8FE4hLOnAZkgNCDLUDIKjYP42EhoOBg1OkOZc1QbWNt1WXXe1jFjXFZ59D+cO9cpZP+PaYMd0Av968bONvE17oCXAb1rG7TI2qSZh2gH1/X1sf7rwxgQL/SFfI44Xh+d3d3G5cFUvRGjN/C4XVmMMtzyqSmNYViWRjIsmZYtxntyK5a8ZZB4cguOfPUtuU+fPg1LlaWHZOuymOKNeTkmebJjci4tmK7PzjU7NzMvaCs7o3W0AWCHGsV9/vx5WJp1wWbc/q3bmnk99EXoq/7UrIv13wb6/jHO7T8Su3P2GFDpzAk4QlR+nKZypfM4OEfqOIxze3t72vqCBmo5UNqObz3J+RKURTqczRh0n18VQelqKCuLj2Tnqv9J52rmB2dB9QobUQ+m6p3ZzCwLbZO2R9vILvrMy6H/wommr836WLMs1n876Ps1jkcUd278PhK7c/b0+rMCg/LY7FgkM1qNjMeScpWHwQR0ZRXLIm0MNEg5ckp3qQNwybma5UBj2VzOnmZuaxRnu6wLfYBm9OzozY8ueLmzES9qgQtb1n3huRzWfzvO9eU99fWHeBt3KjKMbsdGssaCY8kAzj7yMJiojGjk6Hwq6CqMdITsmDiQciJbZLcEda6+ypsXzQ61kC1k+7rO2C7rg5PHYMjFlR29ZeBCta7Tsf+DetvMh/XfluzCXuN5V7qfnt3bnOJADQ9EspxC6fyH9DWl0QwPXfKAa4R40mfx2lcfW/H1Q5p1WZxLdkzSsA8ooy6LcshXo/IvoVWW+UJx0AddazurLikeO0bbCWu8DOhKqFGfgN3MuqgNWPttsP7rkI3LQD+f9UlHpjtnT40EY5GGxsJ6q2wdl1A7a3VZVAg5DLERxnTEx2OqEqlSUYGUd0q+qdgROQ96oxEBe2J71aO6YWML4lliC6W71C7mPGifdazoLdtkoW6vZj7UN6mvMuti/deDvkRjMGMC22jfW/+yG2ePQRTBL3H2Ws4NRpLBSMN6q1w1KsrLUFmUo7KyBhiPqePWjoHOmSCyc32JQ0E+ghkHvbFftFPLnsTLNiyn1k1zGWhbtz/1B2MBG5llQFs0ztqGWR7rvx5xTJDmPV7U3/Cn/JNXC89h8RxXMa6fxTLGGGNMd1y9s6c3na5cBmOMMcZ0Sldv414CTh4fbMbRY1bPGGOMMaZHrnZmj89w8Mr1NxM+fGyMMcYYc1Su/jauMcYYY0zPXO1tXGOMMcaYa8DOnjHGGGNMx+zmNq5+tiyDZ+r8WZScqJt1mgaaKZzTTPpa2/WQ5jxPa5ZHbaFVv2UPcDtYD54rt97ro7rene44e3uAD9ZyOq1QKv3hP3RYKs+s/4M+BFnr5I/NtkH/WrPsg9r6qGlMx7ZZjto26O2Pyi4L9Ryt6Zsy3Mdsg8ZD1/91UR+UjQlHZ3e3cUvlflM6ksdQxB/iuLrkR9GPCldpumKYg2+//fbxB+KlVekgDq/T0vDJHa7YombYhviINCRNaSfDEm3rdGYepC31WXq/e/duqONzthvzhXN9hfoY+l/ZRH0M8WYZ3IdvR9e64/HtAV3JsMzQFeacM2Nrov9vrvPXrFMNV+jEl475FGNEywZoFmftdHVX10XqoGc1loEr6bo+ozNxrVkn83LUn1KfCZnGY31MbC9mXtCXgPbYyayDdKdue2ZvQ4oBhiVXPcBVJzMBXPW/ffv2cR10ZcRHk9lHIL1gP3HZjAHp2CfOlSVIR7zSkYcZIyBeV8LEx9mhqeXXcLXNrGeNdDLP0SxoadCnmAewAUHc398PS9JHyEc6zzTND5rWelOXqefRNmYe4l2BVp8x1sfUbcbMA30/upYLzVOMWQP6HwJ1vltOTt/maNalnk0RutLRfjxvtgmslw5oiNdsAIGrItKzT9sxDWXWqDxQOvKrLJbExfMknc4vHpPAPoLOV/uVL5ZPqM/1UpTfnCfaJdpTcTWy10ttY9qgq9pdBK3Zh/ZmPqKe9F1ZX9gCe9DPmHnRHQWW7mvWo9aaup31RUdnd84eglPZFYhXhx87pOg8ReR0xc6MdeIxImUC+esOS+egvCpLeYTKEjqX+pjEqdKo7FiWyo/Ec43lTUHnUZ+veY7qVLSRqO0rZNO6zpnXMaar7OQ6vRzUd8IU1GfZHvNDn6O+yH3NetT1P9qhJ3bn7LUCxojOjxyb2iEiLjMUnRP7OE62DZnR5XTFUDtuUypH5uydO9eY9hzS49x5mAfQliDdot1Zx6YZ1nh+aFPomg1sajekMctQ93stSNOyk3kddZ8z1ibMfOhiMvYvU8bzI7LLt3HLIPwYihFwSIf1YoRTqi9kcbe3t6e1LyidnjMpjWsIej4LuGfPG4BCz6XoWToFnrEDPbv1kmdXlOfu7m5YRnSuKv8cPAPI84GlgvpZj4nI/uhFndMzG5DVKRizmXk5Lb3hJW3LzI+eiaatTHmm2ExHfY/77nVBc55dbfkWvbE7Zw/RNRATLjHClIEhlodjp4amlyk4JqgstqPzGQPO1WsHoyy/4qb87+qE6SjcWZwn0xs7AjoCFwuvtau5DOr6p0+fTlvPuaQfMPNBO1AfQ59nR29+NOGAzryop5f1AGeEbfVNZj6kadSdQJ3HH2BdfkEPdPVzaRoQskFDhpUzB1pnn95OUxksCRiedDGAnIGYrqZ+8zai42TnqrJ0rBaxE5bDYtqglzSL1NuyTSvdObuYy2m1IQZC670d9GHqY2yHZWDSQRfrMQCas27t50fa1oG+qEvdH+7mbk8Rdrh3znIKxbkZ0tfoHjxLwf34YrT0OSziCdmxdU6xLKCcWFaWrnSOQxznGbdZCv0P9bnW5WcobyzPjFPbBFQ3opaKIwjZJcaZ+ZBtsjbkOr4sdV0XxFn/baC/qduDWQf6+ThG9EJ3zl4cvDU4az3rtDSgTClLxyTEssaOKeQsEM9+xcW02s/yXAdLurHgDjqHzhN90Djas+Xo1+mwmVkG2YY2oXahtmKWQ3pHqOeq863gtrAc0t/O3vqoz++NG/6USrU53MLh/njpdCZNnZKWPNkzJMRz64FbpHpZo/WsCWl5PqIYd5i2zeBYU8pSOiBtnY5z0q1A7bvkXIW0GoP/p1Ta05aJyE7oyMsWLa3Yz+19pTtnF/N6Ylub2heY16G+hHYg3Mdsi/R3G1ifrD30wG6cva3AsDyXUq6k3HEZY4wxpjuu1tmT946jhwffmtUzxhhjjDkyV+vs6a1MZvOY1TPGGGOM6ZGrdfZ4JoLg5yGMMcYY0zNX/8yeMcYYY0zPdPVRZWOMMcYY8xQ7e8YYY4wxHbOb27i8LME3zWr0ORR+UqaH5+t4TnDOT7zw7Te+S0aZ+macGUffOzynm751Rbqx7/GZeYh6uz5vD18qsA22w/pvA7pn38k9PDh7eyD+YkFx6h4D28QTjvw1cb6Izv8y5y9boE/UTOumTdSpdKLNuqVfVlE6lgT/MskyqH1Ic9kJ7c36SH//gsM2WP9tQO9e+51D/FyaBoIjD7b6/+Y6fzkqsTw5KO4gcqQPHamgbqljjVrK4RBKR7yZn6w+z91mzDTUTgjuS9bH+m9D1L1HZ+8Qz+yVAXa4jcttnoi2ufWT7eNWHftYRthXpxfZPsVlZdWQLksTy8zK17nW+1owzVwq5JNb2+gEnz9/HpbmKff398OyOBHDEtCsdKjDuuwmOygeYh08VwfM5WT1Weuym1ke6jffIMUWZn2s/3bwGBm6axztjpPTtzljM3tQ7y9GGWZZuPIhPu6LcQqkZ3YG5MFnV03M3hCEjhtDli9eFRB0blCfD/tEdq5Z+VOoNTLPUR2I1LpRV9iuIa/1XQ/X5/VR/6e6/tK+yLwM678NaK5xmSVjQG8cxtnDAOzXYK0BmXjyqFHI6cJ4rJNeDhVxIho3Es9BZclRJMQ4MXZMtkHblK3/IeZT+Up3SWWL+eL/aKaBZmgnu2i7hv3Eo7VZDtqF6/P6SHP1Ra7r62L9t0HjsMZqO3sLI2ePzh2hYyCeEA2g+No5xFCZE6fya+dL2xAbG9ROgKjz6lwi5CFejbU+PnCe2WCWndsYlEN6go5nppHVI2yS1SF3wOugumyt14O+Br3V57iur4v134ZMZ/r+6Gv0wu6e2dMzUTGUwXd4zopQU4xyWnuA/KSvUZyet1I+bQPPBhFfjD1s69gseY5LoX4mjv31eVAG5zv2+jbnyqv1NTpX9k+hVNghcDyeO+CZD3MedMKe2K62X4bqhVmW0i8N9bl0wK7PK4HO9DtZ32mWx/pvA59ZQfPuPrOSsDtnjw5ezotCudqZNBjLOeJh73MwcGNkPfyth/Jr54s4GmIMOHfkl6NIminHjChv5kAobqqzB+RBI/4nylb5JgcHAo2ob/VFRGYTkD1a+818oDEdMPX5knZgLocBj7bAC0jxoha4sFXfaJbB+m8DuqI7fU2tO3p3p/vDBN/2lAF3mE5lOYXi2AzpI8UxbE59a5o8lh+nzrPy2C6DzWmrTSsd50MA/X9Tpumzc60hTba/Po55CrpjqzGNsAn7a6ztcqBppqs1Xx71fWPB+i+H9d8G9fNjYWwMPhpdOXvAQF489dPWF2RYOV8QHS7yUGZEZdUNjXNkn8pqHZM4nWM2aLE/y6f/LZ5rTeuYxJ/Le81In7HOU/WirotT7GJeBrqOtSFrvhxomwV0p86zbpaj1l3B+i9LrbcCfU4c33uhO2dP5bCfAR2DydHDgDUqh1Abl/zKJ+cgxgnFxWOqXI4d07Ctsi4914jykp58l+S9VqQPeqNfHWQXQEMaveKi/cz8yDaxPtdtyKwH+lv77bD+20G/T9/TG905e6CBI4aWA6RG1dqflUVlIF8kS1c3VM1SEMQl51qT5e2xks5F1D8L0V7Yt05vbZcDvVWfo+51GzLrYGdjW6z/dtD/9NjX3/CnVKrN0YOQRehheY5z6dmvNMV5GpYtbm5uhof0i4FPMU+ZWtaUdHogNJ731PIzyKcyL817bUjjFnVdUnr0bdUNMy+uz/tAdb9uE2YdrP92oH2Puu/G2dsK3rjhbagrl8EYY4wxnXKI38ZdApw8Pr+Bo/c+/AaqMcYYY0xPXK2z9+nTp2G6FkfvGj6oaIwxxpjr5Opv4xpjjDHG9MzVzuwZY4wxxlwDdvaMMcYYYzrGzp65evSZA7MdtoExxizHbpw93o7le3dZePv2bRcvUfD9MMISMFiiFW8Xm2lgCzTLYB/1Lgt2TOZFb8VnoDVtX/0Aaa3/MljrbbH+2yDd1b8Tlhqnt2R3M3t8vJY3ZBXY5gOHHz58OLQjo0+9LIWdvMugMY/Zg/10AnzYtw5mPqi3Yx0r++/v7x/7A2ziQXAZrPW2WP9tkO7v3r0bdFdcdw4fb+PugbGfS+OnY8ogO+yPv196JPT/LXH+pYI+/sRUjz/zMjfohVbSjPpVg47sN8sQ2zQ6s14jO0X76GekXM/nxVpvi/XfBv3mefQ70J3+KOuTjswhntljZg+vG+Rts2S2jKsevHCmYeMVENsE9imdIG+dXpCWfRHFZWVFVG59VcA6Vw7AkjIi5JlSfgZlM+vJz72Z86AzepXO9fEqLgNdS2M/bZm5YcYCjUtn2/xpItoKNoj7WScuti/zeqz1tlj/bdC4XBzqYQnofnd3N+h+yVi8dw7zggYfQQY1BoykW7s4SKwLBhK2SYOxSKPBBSiD/TGPIO7z58+nrS/PE6lSsD+WJYgjKB3r3PuHWGHIp/8FSDd2rucgPRWVTsGcB9uXK7fB6RsDW9DgWUZH3MwDjna52Bytt2iv9h6RXcx8WOttsf7bwDib9UGyRU/aH8LZQ3ANtNEDlyEYNDRDwMCMARlMGNSJZwkM2EC67IpJs2o0MG3Hspg903FUFtTHJB1LymIf56yZSfZpFo4yzp3rGDiF4Fm96WCLrFONqK5hAzTGOSeO7XNOoplGbMcZUzrZKWnMeaTj7e3tsMyw1sth/bclGw/OjRFHZHfOHrNceiOGt5L0ZhLi4wzV4CiBvHNmyBhI4qBMXhwiGowcPPLFbdCMmwYizfzVZelqS3k5JsfPjjk2qOFAZOeanVsN+wh29OYHG8h+0QnHxtSJMbuYeckGQGwDHgCXx1pvi/VflnO69qT77pw9KjeDKgFHCMdHg64cukgdh3HGBggN1NqWQwdyvgRlkY7ZnRh0q1YVQelqKCuLj2Tnqv+p5VRwPM4DbTJNzOtAU+pbrAvYURcWdva2Re3uXNsyr8dab4v1XxZ0lcaRHnXfnbPH7U6cOwVmveKgO0ZmtBoZjyXlKo9u3WlAj2WRNgacATlySjc2BZ9xybnWyEFlJjI6oYAjwrodkvmRPeIznWYZpmjdah/mMqz1tlj/7Tina0+6H+YFjSnIMPEFCJE5PziWOF3sIw9OnMqIRo7OZwxKT8iOiQMpJ7JF1sB1rq1ZOxzL1j4Rz99cBjbLnpm0A70u1PFMc9qa6/e8oHV2AWqt18H6b0dLd+hJ+66cPVCjqQ2oW6/RSWKdwEwZA7xeohAqqx5wmDnjWUIdgwqRHROHoVVp2Kb8bDDTubYqGrOdPEdWB6BM1nuqpGuDHTNHXbas64lZhngxJrRtG8wLeqKrtd4G678Nrefj2WYs7Yrha3s74OPIR5UzvvnmmyF9zQ+nD1EWZ2f4UCWB9VbZOi6BvJFYFscrTtTjxy9ZirFjkgdYsl0q0GPeKfkugXycp5mGbJ/ZHTsQ0JN0sgv2M/OCppmu0Q7YgPZBOrbNvFjrbbH+2yGd0Rzt2c7GhaOzG2cP50YVfQoMwq2GgJFkMNKw3iqXtGNOksqiHJVFpaiJx9Rxa4dN50wQ2bm+xNED8tvZmw51Itoigl2wc7RnZnfzeqjz59pftAFxZn6s9bZY/21AY/X10v2lY/CeueFP+SevFqZruS1bjNvftK0xxhhjrp6rd/b05uqVy2CMMcaYTunuBY2p6CULHD1m9YwxxhhjeuRqZ/Z405K3cL6Z8OFjY4wxxpijcvW3cY0xxhhjeuZqb+MaY4wxxlwDdvaMMcYYYzpmN7dxs69Yg56n82dRnoNmhAzrNQ2e3USr7LnNrD6CtV0W9QU8T2vWAb1pA2PPL4+1FTMfrv/bIN2p31328Th7e4AP3HI6rVAMcPgPHZYKNOv/wIdoW1qZ80i/7MOlY/XRHzpdBtpG1Jl6zAdOzbJI9zGt6btc95fF9X8bat0JPeq+u9u4ReQ3pUN5DMUQj79fl/04/VHgqrg1U/RSKI8rkOKYPAtmHH5fuP7t24h+BzfTlis/My+0bz6HxGxG6ZeGts9vgvK71XO3G/MFtEX3MfQtUrMcrv/bgV/BOCrd8Tf0e/ldgce3B8ogOnjULDPwtNmPF35E9P/Nef6U1+MVyJKgv2YpxmYruKpm5s+sg2ZZI9hFdjLzgraq/9R1lnVfQlvRPi2ztmJej+v/NsivqOs1mlPne+IwL2gU4YclV0DAzIyuON++ffvk6lOzgHw0mX0E0gv2E5ddMZGOfeJcWYJ0xCsdeXRlQDxXCkB8vJKeWn6NypYuZhr39/fDkhljrpxbYBezHrRFZjUi1G2usm2L+UFTNGemmraQQVvBBufaink9rfpPnOv/cugOTj2O3t3dDbr3pP1hnD0N0uLz589DA8FxKl74YBQtcZhwhhgoCICzFZ0o0skBixBHOYKyOI7K0tR6nOKlLBw24pWOPGyzjwarMsmvjlPnqvIVT74pDh9QWdFAzuLUfNcKOjN4RRu3uL29HfS0tstDW2jBvrH95nIY3MrF/jMHI3JJWzGvo1W/6YNc/5cDXbP6LeevK90fJvi2R7c5Swcz3D5QIJ449hWjnFJ/mfZmX4Q0xMdpWd2yKAYcygTysx3ROSivylIeobKEzqU+JnHsg+w2rsqPxHON5dXomKRDA2kUj2nGqe0tFE9AV7Zlq7rOmNejtlK3ZVC9rtugmY8x/YXsMNYnmZfh+r8daJuNl+jdm+67m9ljVouZKgXNmJXBdrjlUFMMdVp7QNPhZVA+xTy9HSRPnVk01uMMHbOHHEd55fUTIiqLY0HrmEXf9JyF8kWyc81gmpl0paMYZpwIrHOulKtzM5eDDbBLaeiDrlqXXWKdMcuiNhXbljHXguv/toyNwUdjl2/jMrAq4MDgNLGeVfgsjqnvGqWT8eTExdvDOEi6lQqkJY7beDHghIIcqpdUCOXBaavRuY45bDgg9W1F8ulZA/NyqBc46bWTL8e8fqTAvI6sDQvXZdM7rv/bgfaZxoqrx4AjsztnD/HliBHGGkLNlIYRy8Oxw6EiaLZGxo3Gjs5nDAz+r22MYxXtkv9dKM9rz8s8R9q+xC5mHDTVw9IZ1tz0TKv+82w6uP4vwzXpepgXNKYgw2WNRrNkcuZA6+zjVjHOm8pgScBpIl0MEB0ypaup37yN6DjZuaosHStDLw3UqLyxvGYc7KYXZyK+fbscrTakRyuM6ZlW/acPcv1fjtadMI2jGqd7oCtnD7gNTAOJtzgxJoMGhovGY52GhGFJU99S1TNa9e1SPUeosrJjso1zoDTxuALnMjtXlZ3lEZw3aaMDom32jeU146gDiLdr4zb2NvOStTXaBnHW2/SO6/826O5cPQYzjnan+/Caxg7QG5Asp1CMNKSv4c2m4uwM+4rD82T9++TNGuLYP6UsHZMQyxo7piAN28SzX3ExrfazzM41Esu7NK95QHUOLWtKQ3/Us2V3My/SnDahdqG2YpaD+o/W6N9CtsnaipkH1/9tyPr6HnX/f8Wj/eLSbshPf/rTIfzyl7+cNCv1r3/9a0hbjHKKeYAyiGMftzp/8YtfDNt/+ctfmuX+8Y9/HDz83/3ud6eYByiLePJRFi9+UBZXXLGsOh3bv/3tb4djivi/kYZj1efKjNK5cxXkpYyX5DUPUIfQqrY7oKVsxZUez3dytYfeZhmk+b///e+h3dI17aR76hr6EpD+LVptxcyD6/82xL5e31btUfcbPL7T+lXCAM5t2XLFOtrRGWOMMcYckat19vSsG44es3Jj38MzxhhjjDkqV+vs8Zasbscyq2eMMcYY0yNX6+zxHBaB+/XGGGOMMb1y9c/sGWOMMcb0THff2TPGGGOMMV+ws2eMMcYY0zG7uY3LyxL8ckSNPofCd856eL6O5wTn/MSLvvbNr4BQ7vv37/0JmYmgHW9j8yZ2rRn1kZDhb18th+ozvwnKtyN5U96sh/VfH/Xf2Rchoj2E+/j5uYp6j7O3B/RrBqUSPwvEE/jS9VHhy/P8L3P+AkP25e+5j9Ez5eJh0Cz7VQDVxyz4VwSWQfZgqfrMulkH678+9NUtneln2EdwH78cGkdjvUfj3vr5Q/xcmhylI1dy/X9znb86gthJRJ1MG2yAbuhHyBq1Gr1ZBw16sX2ojmd9gpkX678+cjIImbOnPiizifv4eZCecSJJcejfE4d4Zq9U7OE2LlOtEW0z/Zrt4zZca18dJ7J9isvKqmF/dvsv5qvLUJ4p5Qvd8i4dwbAEdCodc6qVeQCN+cYi+pTGfIp9DvYY22/mhdvpUAa9YQnUZ7azxzvMvFj/daEPQlf0jZpH6IPq/diEfsn9+zyobse+XvU+G8cPzcnp2xzNfLWuIuv9eN3FKE+ujrQvximQHo8ddBUbvXlRjPzkKkvHjSHLpzIVdG5Qnw/7RHauWfk1lMH/JPS/mXHQTPrKtpl20Q7sj1fXZn7QO9ZnofZhlsX6rwtjjPqUeswRrT6dtLbJPDCOZtprbOip3z+Ms4dR2K8GQMfENvHk0cAsp4t41kmvDisalXXS1MRzUFkci3I06CtOKI4y62OyDdqmbP0PMZ/KV7qs440ojXQj8P9IB3MeaSd7iGgXaSt967RmHtA3q/NqD9Z9Waz/dtDPEKaAHVq2MpdDn55przFA43cP7M7ZQ3gqcgzE1xVc8XLMBMbLnDiVXztf0Zh1x6bBvu7odGzl1XaEPMTL+aqPD62Klp1bDfv1v5Ke8nW+USfTRjap7at49MQG7Edj6V2nN68DPdFbbSWStRszL9Z/W+hnsnGgBjupj3cfNA9omY2X1Hf2Uf97YXfP7On5tRhKBR+eRSPUFEOd1h4gP+lrFKf78Mqnbbi/vx/iy4A+bOvYLHnWS6GG/fV5UAbnO/aZDs6V17xrdK6t5zIUz1LH4Pilgj6ebyuvOQ8aoqX0xJZoXAbDQdesDphlUZs022D9t4V+R7/nTr9ke8wDOl7LWLk7Z48BtVy1PAlU7tqZypDRbm9vh+UYGJmBHAcPGMDJXztfxPEQZww0OPKzVJopx4wob9ZoFdeqhDGPHEPB+ZOvldecR3WjRnF8E8vMh+pz/JaYUD3O2omZB+u/bxgr3r59O6zrAtTMQ6teq973pPXV/IJG1mlppobGpAE8m6GrnU+FOGuXOQCUrePW6Dyy/dm51rAvq4jKM5bXjKM6UWNtlwNNs7aQOSBmfqz/PqEfYkYP+zDm2NGbn6zei576+q6cPQxDY9BsXUSDd2wsMiT7CLWjR9ps4GcWUJ/vAKWrIY2uyGo4NiE7V8WNNWwdsz6u8vZUSddG9s3sDtmtd/M6Wm0oa5dmfqz//kB7+iFsg6Nn5kefKav7esbR7sbQ07N7m8ODkJwOyymUDmhIX6Ny2P99eLieuNJoTqm+oHIIpI2QX/lYr+OE4uIxVa4eelYatlXWpecaIS3pSoV8llfHNONI/9ruY9oSZ+ZHmtMWtK02pPZilsP6bwd9fdbfE4f+9FNZMK9H9T7262jbY73vztkDDcwxtJwnGbu1PyuLikG+SJaudrrIp33iknOt4RximZfkNW1nD9hnbdelbgvoP7U/MK/H+m8D/Urdt6hvGgtZv2Uupx5He633N/wp/+Dm6BZCEXpYnuNcevYrTWlIw7LFzc3N8FZrcSBPMU+ZWtaUdEwXc87xvKeWn6F8vt3yMtDvXB0iWNt1kN5waVswr8f6r4/0rseEc7T6LXM511Dvd+PsbQXPYfFTQVcugzHGGGM65Wrexq3RQ/g4eu/fvz/FGmOMMcb0xdU6e3wqhWlbHL2xDx8bY4wxxhyZq7+Na4wxxhjTM1c7s2eMMcYYcw3Y2TPGGGOM6Rg7e+bqmfKZA2OMMX1xTX3/bpw93o7le3dZ4CfHeniJgm/h1T/L8lLQZCzop71MG2xB/cpgX6Yrwc7hMqAr7VxtPv4koVke678t1n9d0BqdM9CdL3X0ZIvdvKCh793x8drb29tT7MMPcSOyPhrMx4+PiP6/77//fpaPNlJWBjqh11zH6RV0ogHDDz/88OwDpXQEHz58SD+mzBvc/qDp/KhD5fcq0Rf9gbpsvZfH+m+L9V+P2P/XLhA2wMFD89oW+B+HHVdx9vaAfh4m+5kSfs6kCDzsLxX/FHss9P8tef6UzTH42SPTRj8LVRrxsMx+dqg4ecN+sw6ySbQF68RhC7Ms1n9brP86oKl8CYUa9CY+jtU92OIQz+zJwwY8ci2ZLcMLZ5aLmRjWBdsE9imdIG+dXpCWfRHFZWVFVC7pdJ7A+v39/bDOkjIi5InlvxTyc9VRn7/5AtpwlVY619GPaWMzz4yuB+0CvWnrgnXiYlsyy2D9t8X6r4PGZmZLi+N2in3K3d3dsxk8bBFtc0hOTt/mjM3sgbxt7We7iP/ES9dVkeLiftblqY956aSL8TG/jhnLEnU6rQPnXO8X5851KjrmpfmuDWyheqI6p+0I8UrLVTf6qu6Z+UHv2C6EZjzMslj/bbH+64Ce6u81Zk5BY8WRx4BDOHtyzqJhZCgcJJCTo8bBUpAfB0rOF5AvbkN9Dtquy6rzto4Z41RWdMb0P5w71ylQTtZZmDayCZpHFE/ADnLCCdFWZh7UVsYGu9pGZj7qvipi/ZfH+m/DFGcvjgWZfY7E7m7jcouNhyMJvAmjt2HKoDtMvdYUAwzLMiAPS6bDixGf3MokbzHacPtVU+Lki9vAT6gB+UEPZdZlMc0b82oKPjumysrglm12rtm5jcHUNOhWt3kd2ED2K53sUO9YYmPqxFS7mMuIL2YJ7ACtRyfMslj/bbH+24JPoDGccf7Iff/unD0qN4MqAZFxfDToyqGL1HE0irFBQ8bSthw6kPMlKIt0vLUTA0bXfi1VXoSysvhIdq76n6ZWLNJJM/N60JH6FusCdtSFhZ299VAbO9eOzDJY/22x/tuC7yH/AxtoYuWI7M7ZY3ZKAhOY9YqD7hhqGGOo0bCkXOXRixEa0GNZpI0BZ0COnNJlTtsYl5zrGJw3ZXlWb3lkDz4HZOZjiq5T2oJ5GdZ/W6z//kF/xljG2qNe7B/ibdypqEHodmwkM1A0Hnlw4lRGbFzR+YxB6QnZMXHE5ES2yBq4znXKTF1969m8HmyWXcF5Rm85qOuZvtTv2BbNMqB/dgFq/dfB+u8H+v6xGbzMTkegK2cP1Ghqg+jWa3SgWCdwK5cBvp4dU1n1IMStXJ4l1DFojNkxqTByxuoGyzblZwOcznVKIye/O4N5wY6Zoy5behZ1frKrZm1b7+VBY7S2/ttg/feD+v9oC9AjX9GHOBSnFzU25+PprReWU/im8SbND6c3m4oDNLw9Q2C9VbaOSyBvJJbF8XiTlvKIYynGjqm3b1myXSrKY94p+c5BWs7NXI5sn9kdOxDQlnTYTfYz8xM1R2/aAlqzbZbH+m+L9V+fl/gQrB+V3Th7ODeq6FPAUK2GgLE0OJOG9Va5MmzLYVJZlKOyMoPHY+q4tcOmcyaI7FynOnpAniNXwC2hTkRbRLALukZ7WudlqdsCehNn1sH6b4v1X5epPoTsMdU32Su7+W3crWCqltuyxcE67vSsMcYYY0yDq3f2cPRw+K5cBmOMMcZ0SncvaExFL1ng6DGrZ4wxxhjTI1c7s8fbNrx1883pe3nGGGOMMT1y9bdxjTHGGGN65mpv4xpjjDHGXAN29owxxhhjOmY3t3H1tfAaPU/nz6LkoJsCWlmn87xEM9JSP3nG0yyHdAbX5/Wx/tvjvmYbpHu39R5nbw/wwUJOpxWKAS762PAeKRVo1v8h04wPRZo26F9rRt0a+2AmH9hUOrMc8SPWCv6Q9XpY/22p+yb6G+u/POiO1lH7HnXfnbOHyAyuChhCndCRB1v9f3M5e+oYcCCllXQac1yuGTSSZuin+kW9IrCdQfqj17+9E+szuD6vi/XfFvVNuliP+mMbsxz069dQ73fn7LUEPnrF1/831/lneqjDUMU1T2nZYKzuSWc5hGYZGOTQmTosXJ/Xw/pvi/SPWP/lUf8e6z2geW/9/WFe0CjCD0vuq8O33377+OsXb9++fVwH0vz+978fPprMPgLphfIofYR07BPnyhKkI17pyMO3/ID4Dx8+DOvEc65iavk10iOiuGyfedClOHSTn8egfmC34hxa04W5vb0dlmrf4Pq8HtZ/W+hrisN32noA3YmLNjHz8unTp2FZ1/G7u7tB9660Pzl9mzM2uwJ42nG/roQIrBdjDfG6GiLgtZOefdqOabIrJpUn2Ca/ytJx43lSns4vHpPAPoLyab/yEad4Qn2uLcirY1BePMZRZz+3QrqhYQSbqo6wRGuzDKrP6Oz6vD7Wf1vQGb1rGAeyvsnMg+p8DW2gt7q/y2f2EFiBeFX4aBR1RLVTRJq6cbBOPIaV8chfD946B+VVWbXBVZbQudTHJE4NOKs8Kj8SzzWWl8F+0lGGAscx08Ee6FZ3tNSraOPa5mZ+sEVdn+u2Z5bD+m+Dxop6LAONfbbDMqBt3fcDevem++6cvVZgsI3OT+ZgAXFjxpMzVG8DxyAIOr64LeqKQLrsmPHcMmfv3LnGtDVKw7HpEChfDknWaZjnRA0jmf7S1iyD6/O2WP/tGHP2NG7U45yZB7Sd4i/0wO6e2SsVfnhGKoZyns3nprI4PX8SUTrdgy8d2RDu7++HbeC5iXfv3p22HtISx/N0MeiZOz3z17qvn52bUB6eDahRPpWfofNGF57xKxX2UaP4P5kcnqfEjtSB0pGeYh/gGUr0ZJ9ZBz3Tii1cn9fH+m/HlHHCLAPaZxorrqcxYHfOHuLLEVOYypSGERsWjh0OFUEvU+h40dh0elmgQ3xtYxyraGOdAOfL8es0/E/kH3MUrx0GMxw62TaCbuiHvtHBVzzr5DXzgr7U5xo9KO36vCzWf1vox/WyQOTz58/DcmwsMC/nmnTt6ufSZLis0aizis6j1tnHlW10nlgS6OhIFwMQDzFdTf3mbUTHyc5VZelYLbJjKi7bZx5sIlvXjh5gl48fPz4LsgXrcfbXvJ6xOuvBbnms//a0xhDGpnPjgHk5upipab2le2ge7uZuTxlEL7pHXgbrIX0Nzz0QH59/4HmH0mDSZ66IJ2TH1jnVz1LUZWXpiiMxxHGecZul0P9QnytlZ+caIS9pYnlT814rsgH2u5RW/THzIH3r+oy9rPvyWP9tUd+UjSHRJmZeVMfrMbiO64HunD0MRcfFPjqpuJ41GjWoKWXpmIRY1tgxBWnYJp79iotptZ/luQau8giUEctx55AjjVphrHGTF23NMrg+b4v13x76n1p/lmZZ0F1aa4zvUfcb/pR/bnOYSuU5qSLypGlr0pIn+wAx8Ux/MxWrlzWydEBaPmRcjDzcosvgWOfKiscE0tbp2E/g1oiOdcm51kw5pvnCOW3G6h51AKgnZhlcn7fF+m9PHGumjoXm9UTdi8PdZT+/G2dvKzAyz3GVK1s/l2KMMcaY7rhaZ08zNTysz9VTa1bPGGOMMebIXK2zp9/SZTaPWT1jjDHGmB65WmeP51MIfibCGGOMMT1z9c/sGWOMMcb0TFcfVTbGGGOMMU+xs2eMMcYY0zG7uY3LyxL6Me4IL1D09M0hnhOc8xMvfAdLP2nET7/4O3DTwRZ8doc3sTObUCf13TH2v3//flbbmedgE96Up067Pq+P9V8ffeOt9UUI22RdGBO6/MYkzt4eKBUdp/PxK+4xEE848s+X6Av1c36Nvji/j5qVDmBYJ85MQ/phm5pYH6Ut68SbZYh12PV5fdQerP96MB6M6ZzZhKVZBv2aRo8aH+Ln0uJP+Rz1p3v0/811/mr40QFGpzrOPAcbqBMlZM4e8bEDjnXQzI8Gvdg+VJ/tYC+P9V8fORaEzNnLbKI422R+pC2hR2fvEM/slQH2zbt374bp7Ii2meLO9nELrrWvjhPZPsVlZdWwn+PWxHx1GcpDOFe+0DHiVDM6lU7jzf39/SnG1GBDvrGIzqVBn2KfIm2pcyLWwak2MtPh1glQf4Xqc/Z4h5kX678u9EH6oH/UPJLZROltk/lBU8YE6n2PHOYFDRlAAy0NgQaDs8M6v2/LQA7Esc1+7WOpvCyJy+7Jk44gKJO0KqOVDwfh5uZm2M9xYzqWapzsI4h4rnW+MfgfMmeFZzrYJ4fFPIVnY8oV9fAhbbTKUF2rnWZt99oZbMm5+myWxfqvz/fffz+EFrbJejD2ounHjn9J6zDOnpyleJWDcRiAMRADOA0DJ4e0DMg0JAZ19uG0yYnT1VE2A0Z+zeiwTh7KpRwCZVJ+dAhJR2WhTB2TMkjHPpw3zgE4VzVwnSv5VD7p6vJbkL9GL2uYHPQ/50xTd7AD+sr5ZgljnbNZDg9u22L954V+JI5lL8E2mQf6eULPjt7A6Xbu5hShH59dKM7Vk0A8gXWhePJFykCdPlel8ksjG7bLYP5kGxRXnK5hm3OJ20LHVl5tR8hDPGVCfXzgPDlGTXZuNTq3+P9zTOLqeJMjm9T2BeKksYJsaeZF9TbTN2s3Zl6s/7bQz9TjgG2yHrXOjMvR1+iF3c3scbUiT1uhNITB6ybUFKOc1h4gP+lrFEd5oHzaBmb6iGdmB3RslswMKtSwvz4PyuB8x2aRONfsVqLOdezKjbI5hm4t6xZwfR7mcrCnZvJKpzsE9KZ+KN6si9qk2Qbrvz9sk9ejO3JTHp06Ortz9oqH/TjAKpQrmElOjJwjvpFzDhoKRtatXJy4zPkijtuqMeAMkJ+l0kw5ZkR5swaruDFnjzTogl6sc95s6/yzcs00VCekLYH6h8OHTWQ7Mw+qq9kjCGoDrs/LYf33h22yPIz5GsvryRw0lk/QC4d5Zu+1ZA2EwZx4DM6D+5DN0NXOp0K8GlD+CGW3KovOI9ufnWsG+zkHnDyWmhGEc3lNG+kf9QRpmj3raV4H2mZtwc+groP13x+2ybJIW5w67pApEI9PwHpPF/ZdOXs0jjhbF5HRMoeIfYTa0SMthq8bHJVDb++A0tXo1moGxyZk56q42tmI6PZtDTOP/B/638zltLRTHbp0Ftecp9WGsnZp5sf67w/bZFnQMJvEof9He9a70vn07N7mfDw9dMpyCsUIQ/oalcN+HmAtBhseviSuGPCU6gsqh0DaCPmVj3UgTV2W0sVjqlyOHdOwrbIuPdeI8qp88pKHuPr/MDnSsNaLbeJLo39iK+u7HNKctqBttSHZwCyH9d8O+pWsv7dNtoF+X5r3RHfOHshhiqHlPKlBtfZnZVEZyBfJ0skRE+TTPnHJuUY4fp03OifmPC1nD9Ax2sv6Lk9Wn6f2B+b1WP9taDl7IJuoL7JNlgeNe3T2bvhTKtHmaLq6CD0sz3EuPfuVpjSkYdmCjyGXBtScsp1aVkzHeWXnxhR8vW9q+Rnko0zytbQwbdCvpZvsojSX2sZcjvQG670+1n99pPe5fghsk+VB6x7H0t04e1uhhzOvXAZjjDHGdMrVvI1bE9/Aef/+4dctjDHGGGN642qdPT6Vwu1PHL1r+KCiMcYYY66Tq7+Na4wxxhjTM1c7s2eMMcYYcw3Y2TPGGGOM6Rg7ewdFr+Kb12MtjTHm+rimvn8TZ483Yfm2XRb4CbAeXpjg5Q/CEvAGMT/FlkHlRT9pGX/WzTwF+6BTRtSxp3q5Z1x3t8X67wf1Te5zlgNtqecttF9hqfF8NXhBY230ywV8pZovhCuw/etfP/wk1ZG/YK3/b4lfW0Anyv7qq69OMU9BP/aRjvNgneBffngKeqAjIfsFDdVDdCQt9ZHtI9fLvdOqu5l9zPxY//0Q+x8zP7H/z+hxHN3U2WNZQ8eiin5UYfX/zXn+URdVvJrsuOQjzk7KF2jA0pFlNphlmqkDMPMjm0RbuO6uh/XfD+itvsnO3rxQpzWOKtTIEYz+ifIRjsruntkrlfzNu3fvhnVNm7Lk1i+3FLiFyfRqvL3ANoF9SifIW6cXpGVfROmzsiIxnc4TWL+/vx/WWVJGhDyx/KlwS4WyS0Vs/pTLhw8fhmWpkMMSSFs6jyfneM2gPTqVTrT5MW3Z/Pb2dlgKtGRfq06Yl0Nbod7Gus06ca67y2P99wFaMy60+ibzOjReM44yLmZo/I77aQt3d3eH7v93+YIGHzwGdTyIzwAtB0lODeAEsU0ajEAaOUZAGeyPeQRxnz9/Pm09lEWQsdkfyxJ1OtZ17z9WBPLpfwHS1ec69VkAHODinD9x5GooM6vAOC3si+d2rVAfylXa4PS10CAnOwFL6h76ql6a+UDfTFd1sGZZrP8+YIzA0Rvr583LoT7T/4/py3ic7ad90BaO2h525+whpGa8ouMigXF4NLvFgI1haBwYkHiWgCMFpMNwtUPFMSgT42s7lvXx48fH46gsqI9JOpaUxT7OWTOT7CMAZZw71zHGnJNzqBM/aiWdk6nOmuyGMy5nnnqkeDMfU+ql6+5ySNt6Jjti/ZeHfoY+5jV9vRkHbc/1/9T1LM2UcWPPbOrsMcvFIEqIbz0iKs5QDY4SyOtm5oXBOzYO8jIgYzA5eOSL26AZNzmUmvmry9KVrfJyzLpB6pjROa0hf3au2bm9hrEO20xHFwPYiABsR/uZecnqbtTerI/1X4c42WD2zVHbwqbOHh0JjhMBR4iKjtPEjJccukgdh+hjA4QcKG3LoQMaV3TOKIt0XF3FoFu1MrDS1VBWFi9a56r/aS5nL96Wrhk7P/MF6gZ1hfoYZ2+xFfFz2cqcR+3OdXcbrP/yoDF3d+hvsnHPrAt1XfU+cvS2sKmzx+1OBlIFZk3GZscimTFqZBSWlKs8DOagq6hYFmljoPHVjtyls2eXnOtroIzsWIqb4xjXQD3rC2in+mJnb15UL32hsg3Wf1s0CUG/EycagMkG1t3nrMe5un7UtrDLFzSmIMHjCxAiaxg4ljg97CMPTpzKiMaLzmcMuuIibXZMHEg5kS2yzlTnOscVHeeWOXtjnbh5DhqiZawXoG3rOT/U/1bdre1g5qelP32d9V8WJg/q/r/V95h1aLUFOKotDuvsgTqo2jC69RobEOsErqJwyvQShVBZtaPIVRXPEioeQ2fHZBq+VRnYpvzMCdW5zlGBokMb4f+dOmNqvryBmOkIeqnHzAd1F72j5tgga6tmflr6s239l4U7WjyjHgMTDID2bB/VwTgi3MHJ+n+2Dz2ODl/bW5lSkZ99tHCMInD68cMfTh/9LA1h+PgkgfVW2TougbyRWBbHKw3s8UOjLMXYMckDLNkuDt7jeUzJNxXKJW8Nx9A+jktopTVf6kNWF9CMgJ1iXUBPMz9Rc+yC3q6762H99wX2oL/BDmYZWn4FqO6r/2c7GyuOxCbOHuKpU5kCRml1OogvQ5CG9Va5akCUl5GVlTW2mE5pa4dN5xzP+5JzHYN8hAyOoUrMMTh/4sxz0D7aJ4JmaMf+qKVZjrp9uO6ui/XfD+juPmdZzvkVaB/bwqWTMnvjhj/lH7oKmIbltmwx2pNbvMYYY4wxvXJVzp7earqif9kYY4wxV86hX9CYCi9P6CULZvWMMcYYY66FdGbvu+++e/Pf//73tHV8/va3v7355z//+eZXv/rVm5/97GenWGOMMcaYY/PjH//4zddff33aymk6e//4xz9OW8YYY4wxZo/8/Oc/f5mzZ4wxxhhj+uAqntkzxhhjjLlW7OwZY4wxxnSMnT1jjDHGmI6xs2eMMcYY0zF29owxxhhjOsbOnjHGGGNMx9jZM8YYY4zpljdv/j+n0XMxXR/nWgAAAABJRU5ErkJggg==)"
      ],
      "metadata": {
        "id": "lIIhtIToSiz8"
      }
    },
    {
      "cell_type": "markdown",
      "source": [
        "Este caso se trata de una empresa la cual requiere invertir maximo 18 millones anuales en 10 proyectos diferentes durante 4 años, cada proyecto cuenta con un Valor Presente Neto y un costo de financiación anual. Esta empresa quiere maximizar su ganancia invirtiendo en los proyectos mas rentables sin exceder su presupuesto anual, pero para encontrar dicha ganancia debe realizar las diferentes combinaciones de financiación de proyectos con dicho presupuesto, esto le tomaría mucho tiempo por lo que contrata un grupo de programadores para que encuentre en que proyectos debe invertir logrando maximizar su ganancia. \n",
        "El objetivo de este trabajo es conseguir un portafolio de inversion el cual tenga la maxima ganancia posible dados los proyectos presentados, para la segund aparte del objetivo se espera ver que pasaría si los valores esperados cambiaran, se espera comprobar que este riesgo no tendrá implicación en los nuevos portafolios ya que convergerá en el mismo portafolio inicial. Esta inversion cuenta con una restriccion anual la cual consta de un presupuesto (prsp) de 18 millones (UDS), es decir, la suma de la financiacion anual no puede ser mayor a este presupuesto. \n",
        "\n",
        "Este problema requiere una optimización, el grupo escogió el metodo de cvx ya que es el metodo óptmio para encontrar una combinación que maximice la ganancia, ádemas de esto, el metodo cvx logra introducir las diferentes restricciones de forma matricial, el poder introducir las variables de forma matricial permite que la optimización se realice de forma eficaz. En este caso, se tiene una funcion objetivo de maximizar el valor del VPN total, dos restricciones y dos resultados. Para empezar la funcion objetivo contiene un arreglo donde se encuentran los valores de los VPN, las restricciones son el presupuesto anual y que los proyectos invertidos sean mayor a 1. Esto con lleva a dos resultados, el primero es el portafolio que maximice las ganancias de la empresa, es decir, lo que se buscó encontra fue un metodo por el cual la optimizacion arrojara las mejores inversiones en proyectos para maximar la rentabilidad, esto por medio de un Boolean, es decir, un arreglo de ceros y unos donde el proyecto que de 1 sea el proyecto financiado y el que tenga un 0 sea proyectos que no aportan al portafolio en estas condiciones. El siguiente resultado es la suma del valor de dicha combiancion de proyectos, es decir, la maxima ganancia posible. \n",
        "\n",
        "Para la siguiente parte, se espera buscar el mismo portafolio, pero esta asumiendo un riesgo en el valor de estos proyectos, lo cual visto en una pregunta es ¿qué pasaría si el valor de los VPN cambia a lo largo del periodo? Para esto en primera instancia se realizó un arreglo que contenga 1000 diferentes resultados para cada VPN, esto siguiendo una distribución normal que tiene una media que es igual al valor de cada VPN y una desviación que en este caso se tomo de 0.5 para tener un riesgo amplio. Para este ejercicio se toma la descición de meterle otro factor al valor esperado el cual es multiplicar cada VPN por la media de estos VPN, esto con el fin de generar otro valor diferente a los VPN propuestos. Ya que se van a realizar 1000 posibles resultados de VPN es necesario realizar la optimización para estas 1000 posibilidades, por lo que se realiza un bucle en el cual ahorre el resultado uno, el cual hace referencia a mostrar en cuales poryectos se debe invertir, estos resultados se almacenan en una base de datos. \n",
        "\n"
      ],
      "metadata": {
        "id": "rnl5X00xe_yQ"
      }
    },
    {
      "cell_type": "code",
      "source": [
        "import numpy as np\n",
        "import pandas as pd\n",
        "import matplotlib.pyplot as plt\n",
        "from scipy.optimize import minimize\n",
        "from scipy.optimize import linprog\n",
        "import cvxpy as cp\n",
        "import warnings\n",
        "from scipy.stats import norm\n",
        "!pip install --quiet pyDOE\n",
        "from pyDOE import lhs\n",
        "warnings.filterwarnings(\"ignore\") "
      ],
      "metadata": {
        "id": "4N-blrQABLbX",
        "colab": {
          "base_uri": "https://localhost:8080/"
        },
        "outputId": "90801360-02e6-486e-9233-d0621139602b"
      },
      "execution_count": 1,
      "outputs": [
        {
          "output_type": "stream",
          "name": "stdout",
          "text": [
            "  Preparing metadata (setup.py) ... \u001b[?25l\u001b[?25hdone\n",
            "  Building wheel for pyDOE (setup.py) ... \u001b[?25l\u001b[?25hdone\n"
          ]
        }
      ]
    },
    {
      "cell_type": "markdown",
      "source": [
        "a. Formule un programa lineal para encontrar el mejor plan de inversión (proyectos en los\n",
        "que se recomienda invertir)."
      ],
      "metadata": {
        "id": "_ULatFJqS6qV"
      }
    },
    {
      "cell_type": "code",
      "execution_count": 5,
      "metadata": {
        "id": "jSqJcuVWQ9iV"
      },
      "outputs": [],
      "source": [
        "# Función objetivo\n",
        "c = np.array([30, 30, 20, 15, 15, 15, 15, 24, 18, 18])\n",
        "\n",
        "# Restricciones\n",
        "                     \n",
        "Aub = np.array([[12, 0, 3, 10, 0, 0, 0, 8, 0, 0],\n",
        "                [4, 12, 4, 0, 11, 0, 0, 8, 0, 0],\n",
        "                [4, 4, 4, 0, 0, 12, 0, 0, 10, 4],\n",
        "                [0, 4, 4, 0, 0, 0, 13, 0, 4, 10]])\n",
        "\n",
        "prsp = np.array([18, 18, 18, 18]) \n"
      ]
    },
    {
      "cell_type": "code",
      "source": [
        "n = 10\n",
        "x = cp.Variable(n, boolean=True)\n",
        "obj = cp.Maximize(c.T @ x)\n",
        "rest = [Aub @ x <= prsp, x >=0]\n",
        "prob = cp.Problem(obj, rest)\n",
        "result = prob.solve()\n",
        "sol = pd.DataFrame(x.value).round(2)\n",
        "(sol.T).set_axis(['Proyecto 1','Proyecto 2','Proyecto 3','Proyecto 4','Proyecto 5','Proyecto 6','Proyecto 7','Proyecto 8','Proyecto 9','Proyecto 10',], axis=1)"
      ],
      "metadata": {
        "colab": {
          "base_uri": "https://localhost:8080/",
          "height": 81
        },
        "id": "l7ZKOdjf78c_",
        "outputId": "2c38a37c-a05f-4f90-a588-a23d0b8675fb"
      },
      "execution_count": 6,
      "outputs": [
        {
          "output_type": "execute_result",
          "data": {
            "text/plain": [
              "   Proyecto 1  Proyecto 2  Proyecto 3  Proyecto 4  Proyecto 5  Proyecto 6  \\\n",
              "0         0.0         0.0         1.0         1.0         1.0         0.0   \n",
              "\n",
              "   Proyecto 7  Proyecto 8  Proyecto 9  Proyecto 10  \n",
              "0         0.0         0.0         1.0          1.0  "
            ],
            "text/html": [
              "\n",
              "  <div id=\"df-e164ab55-e8b5-48c1-b4c8-dac81ed1280a\">\n",
              "    <div class=\"colab-df-container\">\n",
              "      <div>\n",
              "<style scoped>\n",
              "    .dataframe tbody tr th:only-of-type {\n",
              "        vertical-align: middle;\n",
              "    }\n",
              "\n",
              "    .dataframe tbody tr th {\n",
              "        vertical-align: top;\n",
              "    }\n",
              "\n",
              "    .dataframe thead th {\n",
              "        text-align: right;\n",
              "    }\n",
              "</style>\n",
              "<table border=\"1\" class=\"dataframe\">\n",
              "  <thead>\n",
              "    <tr style=\"text-align: right;\">\n",
              "      <th></th>\n",
              "      <th>Proyecto 1</th>\n",
              "      <th>Proyecto 2</th>\n",
              "      <th>Proyecto 3</th>\n",
              "      <th>Proyecto 4</th>\n",
              "      <th>Proyecto 5</th>\n",
              "      <th>Proyecto 6</th>\n",
              "      <th>Proyecto 7</th>\n",
              "      <th>Proyecto 8</th>\n",
              "      <th>Proyecto 9</th>\n",
              "      <th>Proyecto 10</th>\n",
              "    </tr>\n",
              "  </thead>\n",
              "  <tbody>\n",
              "    <tr>\n",
              "      <th>0</th>\n",
              "      <td>0.0</td>\n",
              "      <td>0.0</td>\n",
              "      <td>1.0</td>\n",
              "      <td>1.0</td>\n",
              "      <td>1.0</td>\n",
              "      <td>0.0</td>\n",
              "      <td>0.0</td>\n",
              "      <td>0.0</td>\n",
              "      <td>1.0</td>\n",
              "      <td>1.0</td>\n",
              "    </tr>\n",
              "  </tbody>\n",
              "</table>\n",
              "</div>\n",
              "      <button class=\"colab-df-convert\" onclick=\"convertToInteractive('df-e164ab55-e8b5-48c1-b4c8-dac81ed1280a')\"\n",
              "              title=\"Convert this dataframe to an interactive table.\"\n",
              "              style=\"display:none;\">\n",
              "        \n",
              "  <svg xmlns=\"http://www.w3.org/2000/svg\" height=\"24px\"viewBox=\"0 0 24 24\"\n",
              "       width=\"24px\">\n",
              "    <path d=\"M0 0h24v24H0V0z\" fill=\"none\"/>\n",
              "    <path d=\"M18.56 5.44l.94 2.06.94-2.06 2.06-.94-2.06-.94-.94-2.06-.94 2.06-2.06.94zm-11 1L8.5 8.5l.94-2.06 2.06-.94-2.06-.94L8.5 2.5l-.94 2.06-2.06.94zm10 10l.94 2.06.94-2.06 2.06-.94-2.06-.94-.94-2.06-.94 2.06-2.06.94z\"/><path d=\"M17.41 7.96l-1.37-1.37c-.4-.4-.92-.59-1.43-.59-.52 0-1.04.2-1.43.59L10.3 9.45l-7.72 7.72c-.78.78-.78 2.05 0 2.83L4 21.41c.39.39.9.59 1.41.59.51 0 1.02-.2 1.41-.59l7.78-7.78 2.81-2.81c.8-.78.8-2.07 0-2.86zM5.41 20L4 18.59l7.72-7.72 1.47 1.35L5.41 20z\"/>\n",
              "  </svg>\n",
              "      </button>\n",
              "      \n",
              "  <style>\n",
              "    .colab-df-container {\n",
              "      display:flex;\n",
              "      flex-wrap:wrap;\n",
              "      gap: 12px;\n",
              "    }\n",
              "\n",
              "    .colab-df-convert {\n",
              "      background-color: #E8F0FE;\n",
              "      border: none;\n",
              "      border-radius: 50%;\n",
              "      cursor: pointer;\n",
              "      display: none;\n",
              "      fill: #1967D2;\n",
              "      height: 32px;\n",
              "      padding: 0 0 0 0;\n",
              "      width: 32px;\n",
              "    }\n",
              "\n",
              "    .colab-df-convert:hover {\n",
              "      background-color: #E2EBFA;\n",
              "      box-shadow: 0px 1px 2px rgba(60, 64, 67, 0.3), 0px 1px 3px 1px rgba(60, 64, 67, 0.15);\n",
              "      fill: #174EA6;\n",
              "    }\n",
              "\n",
              "    [theme=dark] .colab-df-convert {\n",
              "      background-color: #3B4455;\n",
              "      fill: #D2E3FC;\n",
              "    }\n",
              "\n",
              "    [theme=dark] .colab-df-convert:hover {\n",
              "      background-color: #434B5C;\n",
              "      box-shadow: 0px 1px 3px 1px rgba(0, 0, 0, 0.15);\n",
              "      filter: drop-shadow(0px 1px 2px rgba(0, 0, 0, 0.3));\n",
              "      fill: #FFFFFF;\n",
              "    }\n",
              "  </style>\n",
              "\n",
              "      <script>\n",
              "        const buttonEl =\n",
              "          document.querySelector('#df-e164ab55-e8b5-48c1-b4c8-dac81ed1280a button.colab-df-convert');\n",
              "        buttonEl.style.display =\n",
              "          google.colab.kernel.accessAllowed ? 'block' : 'none';\n",
              "\n",
              "        async function convertToInteractive(key) {\n",
              "          const element = document.querySelector('#df-e164ab55-e8b5-48c1-b4c8-dac81ed1280a');\n",
              "          const dataTable =\n",
              "            await google.colab.kernel.invokeFunction('convertToInteractive',\n",
              "                                                     [key], {});\n",
              "          if (!dataTable) return;\n",
              "\n",
              "          const docLinkHtml = 'Like what you see? Visit the ' +\n",
              "            '<a target=\"_blank\" href=https://colab.research.google.com/notebooks/data_table.ipynb>data table notebook</a>'\n",
              "            + ' to learn more about interactive tables.';\n",
              "          element.innerHTML = '';\n",
              "          dataTable['output_type'] = 'display_data';\n",
              "          await google.colab.output.renderOutput(dataTable, element);\n",
              "          const docLink = document.createElement('div');\n",
              "          docLink.innerHTML = docLinkHtml;\n",
              "          element.appendChild(docLink);\n",
              "        }\n",
              "      </script>\n",
              "    </div>\n",
              "  </div>\n",
              "  "
            ]
          },
          "metadata": {},
          "execution_count": 6
        }
      ]
    },
    {
      "cell_type": "markdown",
      "source": [
        "Esta tabla muestra con 1 los proyectos en los cuales puede invertir, y con 0s los que no debe."
      ],
      "metadata": {
        "id": "WdIdgMcPq00x"
      }
    },
    {
      "cell_type": "code",
      "source": [
        "result "
      ],
      "metadata": {
        "colab": {
          "base_uri": "https://localhost:8080/"
        },
        "id": "pqskl4A6FIwS",
        "outputId": "c9a3647d-4dc6-4677-b7b4-7c3061fe50fd"
      },
      "execution_count": 7,
      "outputs": [
        {
          "output_type": "execute_result",
          "data": {
            "text/plain": [
              "86.0"
            ]
          },
          "metadata": {},
          "execution_count": 7
        }
      ]
    },
    {
      "cell_type": "code",
      "source": [
        "t1 = x.value * c\n",
        "sum(t1)"
      ],
      "metadata": {
        "colab": {
          "base_uri": "https://localhost:8080/"
        },
        "id": "3KfWMgfPeLXz",
        "outputId": "37357bb2-66b8-4311-bee4-7d1e8c9b8bc4"
      },
      "execution_count": 22,
      "outputs": [
        {
          "output_type": "execute_result",
          "data": {
            "text/plain": [
              "86.0"
            ]
          },
          "metadata": {},
          "execution_count": 22
        }
      ]
    },
    {
      "cell_type": "markdown",
      "source": [
        "El VPN maximo de los portafolios de inversion, es 86 Millones USD. En este caso result es el valor encontrado por la optimizacion, y t1 es la multiplicacion de los valores de x, los cuales son la descision de inversion de los proyectos, multiplicado por los valores de los VPN, como se puede ver son iguales."
      ],
      "metadata": {
        "id": "O2OTYGJqex5F"
      }
    },
    {
      "cell_type": "code",
      "source": [
        "from numpy.matrixlib.defmatrix import matrix\n",
        "mu = np.array([30, 30, 20, 15, 15, 15, 15, 24, 18, 18])*c.mean()\n",
        "std = 0.5\n",
        "rands_n = np.concatenate(((norm(mu[0], std).ppf(lhs(1000,1))),\n",
        "           norm(mu[1], std).ppf(lhs(1000,1)),\n",
        "           norm(mu[2], std).ppf(lhs(1000,1)),\n",
        "           norm(mu[3], std).ppf(lhs(1000,1)),\n",
        "           norm(mu[4], std).ppf(lhs(1000,1)),\n",
        "           norm(mu[5], std).ppf(lhs(1000,1)),\n",
        "           norm(mu[6], std).ppf(lhs(1000,1)),\n",
        "           norm(mu[7], std).ppf(lhs(1000,1)),\n",
        "           norm(mu[8], std).ppf(lhs(1000,1)),\n",
        "           norm(mu[9], std).ppf(lhs(1000,1))))\n",
        "rands_n"
      ],
      "metadata": {
        "colab": {
          "base_uri": "https://localhost:8080/"
        },
        "id": "Vgr7EQ6yiG_X",
        "outputId": "bf230aa5-5822-40ab-a40a-0843f8a36b04"
      },
      "execution_count": 12,
      "outputs": [
        {
          "output_type": "execute_result",
          "data": {
            "text/plain": [
              "array([[600.30457956, 600.19151014, 600.28448132, ..., 601.2052519 ,\n",
              "        600.98635702, 600.29457293],\n",
              "       [601.10318838, 599.37146553, 599.74263763, ..., 599.81734804,\n",
              "        599.63977105, 600.1204656 ],\n",
              "       [399.97604946, 400.08565587, 400.7983844 , ..., 399.82049711,\n",
              "        400.84059882, 399.95802279],\n",
              "       ...,\n",
              "       [480.74231236, 479.91415239, 479.52332002, ..., 479.66546305,\n",
              "        480.17395024, 480.14076372],\n",
              "       [360.76138284, 360.22124863, 360.10533832, ..., 360.01364294,\n",
              "        360.70747339, 360.81957223],\n",
              "       [360.43149694, 360.19048593, 359.73540559, ..., 360.74747434,\n",
              "        360.18193042, 359.73344872]])"
            ]
          },
          "metadata": {},
          "execution_count": 12
        }
      ]
    },
    {
      "cell_type": "markdown",
      "source": [
        "Aqui se genero las distribuciones normales para cada VPN, dando un total de 1000 valores diferentes para cada uno."
      ],
      "metadata": {
        "id": "6P4bPHlbq9Wi"
      }
    },
    {
      "cell_type": "code",
      "source": [
        "m = np.zeros((1000,10))\n",
        "for i in range(1000):\n",
        "  n = 10\n",
        "  y = rands_n[:,i]\n",
        "  x = cp.Variable(n, boolean=True)\n",
        "  obj = cp.Maximize(y.T @ x)\n",
        "  rest = [Aub @ x <= prsp, x >=0]\n",
        "  prob = cp.Problem(obj, rest)\n",
        "  result = prob.solve()\n",
        "  m[i,:] = x.value\n",
        "\n",
        "m = pd.DataFrame(m)\n",
        "m"
      ],
      "metadata": {
        "colab": {
          "base_uri": "https://localhost:8080/",
          "height": 423
        },
        "id": "RVpozKetlvjs",
        "outputId": "e34f57db-4b3b-4129-db2b-5cf9558d4546"
      },
      "execution_count": 25,
      "outputs": [
        {
          "output_type": "execute_result",
          "data": {
            "text/plain": [
              "       0    1    2    3    4    5    6    7    8    9\n",
              "0    0.0  0.0  1.0  1.0  1.0  0.0  0.0  0.0  1.0  1.0\n",
              "1    0.0  0.0  1.0  1.0  1.0  0.0  0.0  0.0  1.0  1.0\n",
              "2    0.0  0.0  1.0  1.0  1.0  0.0  0.0  0.0  1.0  1.0\n",
              "3    0.0  0.0  1.0  1.0  1.0  0.0  0.0  0.0  1.0  1.0\n",
              "4    0.0  0.0  1.0  1.0  1.0  0.0  0.0  0.0  1.0  1.0\n",
              "..   ...  ...  ...  ...  ...  ...  ...  ...  ...  ...\n",
              "995  0.0  0.0  1.0  1.0  1.0  0.0  0.0  0.0  1.0  1.0\n",
              "996  0.0  0.0  1.0  1.0  1.0  0.0  0.0  0.0  1.0  1.0\n",
              "997  0.0  0.0  1.0  1.0  1.0  0.0  0.0  0.0  1.0  1.0\n",
              "998  0.0  0.0  1.0  1.0  1.0  0.0  0.0  0.0  1.0  1.0\n",
              "999  0.0  0.0  1.0  1.0  1.0  0.0  0.0  0.0  1.0  1.0\n",
              "\n",
              "[1000 rows x 10 columns]"
            ],
            "text/html": [
              "\n",
              "  <div id=\"df-7a18dd97-2d80-442f-83b8-6a0a414b65ea\">\n",
              "    <div class=\"colab-df-container\">\n",
              "      <div>\n",
              "<style scoped>\n",
              "    .dataframe tbody tr th:only-of-type {\n",
              "        vertical-align: middle;\n",
              "    }\n",
              "\n",
              "    .dataframe tbody tr th {\n",
              "        vertical-align: top;\n",
              "    }\n",
              "\n",
              "    .dataframe thead th {\n",
              "        text-align: right;\n",
              "    }\n",
              "</style>\n",
              "<table border=\"1\" class=\"dataframe\">\n",
              "  <thead>\n",
              "    <tr style=\"text-align: right;\">\n",
              "      <th></th>\n",
              "      <th>0</th>\n",
              "      <th>1</th>\n",
              "      <th>2</th>\n",
              "      <th>3</th>\n",
              "      <th>4</th>\n",
              "      <th>5</th>\n",
              "      <th>6</th>\n",
              "      <th>7</th>\n",
              "      <th>8</th>\n",
              "      <th>9</th>\n",
              "    </tr>\n",
              "  </thead>\n",
              "  <tbody>\n",
              "    <tr>\n",
              "      <th>0</th>\n",
              "      <td>0.0</td>\n",
              "      <td>0.0</td>\n",
              "      <td>1.0</td>\n",
              "      <td>1.0</td>\n",
              "      <td>1.0</td>\n",
              "      <td>0.0</td>\n",
              "      <td>0.0</td>\n",
              "      <td>0.0</td>\n",
              "      <td>1.0</td>\n",
              "      <td>1.0</td>\n",
              "    </tr>\n",
              "    <tr>\n",
              "      <th>1</th>\n",
              "      <td>0.0</td>\n",
              "      <td>0.0</td>\n",
              "      <td>1.0</td>\n",
              "      <td>1.0</td>\n",
              "      <td>1.0</td>\n",
              "      <td>0.0</td>\n",
              "      <td>0.0</td>\n",
              "      <td>0.0</td>\n",
              "      <td>1.0</td>\n",
              "      <td>1.0</td>\n",
              "    </tr>\n",
              "    <tr>\n",
              "      <th>2</th>\n",
              "      <td>0.0</td>\n",
              "      <td>0.0</td>\n",
              "      <td>1.0</td>\n",
              "      <td>1.0</td>\n",
              "      <td>1.0</td>\n",
              "      <td>0.0</td>\n",
              "      <td>0.0</td>\n",
              "      <td>0.0</td>\n",
              "      <td>1.0</td>\n",
              "      <td>1.0</td>\n",
              "    </tr>\n",
              "    <tr>\n",
              "      <th>3</th>\n",
              "      <td>0.0</td>\n",
              "      <td>0.0</td>\n",
              "      <td>1.0</td>\n",
              "      <td>1.0</td>\n",
              "      <td>1.0</td>\n",
              "      <td>0.0</td>\n",
              "      <td>0.0</td>\n",
              "      <td>0.0</td>\n",
              "      <td>1.0</td>\n",
              "      <td>1.0</td>\n",
              "    </tr>\n",
              "    <tr>\n",
              "      <th>4</th>\n",
              "      <td>0.0</td>\n",
              "      <td>0.0</td>\n",
              "      <td>1.0</td>\n",
              "      <td>1.0</td>\n",
              "      <td>1.0</td>\n",
              "      <td>0.0</td>\n",
              "      <td>0.0</td>\n",
              "      <td>0.0</td>\n",
              "      <td>1.0</td>\n",
              "      <td>1.0</td>\n",
              "    </tr>\n",
              "    <tr>\n",
              "      <th>...</th>\n",
              "      <td>...</td>\n",
              "      <td>...</td>\n",
              "      <td>...</td>\n",
              "      <td>...</td>\n",
              "      <td>...</td>\n",
              "      <td>...</td>\n",
              "      <td>...</td>\n",
              "      <td>...</td>\n",
              "      <td>...</td>\n",
              "      <td>...</td>\n",
              "    </tr>\n",
              "    <tr>\n",
              "      <th>995</th>\n",
              "      <td>0.0</td>\n",
              "      <td>0.0</td>\n",
              "      <td>1.0</td>\n",
              "      <td>1.0</td>\n",
              "      <td>1.0</td>\n",
              "      <td>0.0</td>\n",
              "      <td>0.0</td>\n",
              "      <td>0.0</td>\n",
              "      <td>1.0</td>\n",
              "      <td>1.0</td>\n",
              "    </tr>\n",
              "    <tr>\n",
              "      <th>996</th>\n",
              "      <td>0.0</td>\n",
              "      <td>0.0</td>\n",
              "      <td>1.0</td>\n",
              "      <td>1.0</td>\n",
              "      <td>1.0</td>\n",
              "      <td>0.0</td>\n",
              "      <td>0.0</td>\n",
              "      <td>0.0</td>\n",
              "      <td>1.0</td>\n",
              "      <td>1.0</td>\n",
              "    </tr>\n",
              "    <tr>\n",
              "      <th>997</th>\n",
              "      <td>0.0</td>\n",
              "      <td>0.0</td>\n",
              "      <td>1.0</td>\n",
              "      <td>1.0</td>\n",
              "      <td>1.0</td>\n",
              "      <td>0.0</td>\n",
              "      <td>0.0</td>\n",
              "      <td>0.0</td>\n",
              "      <td>1.0</td>\n",
              "      <td>1.0</td>\n",
              "    </tr>\n",
              "    <tr>\n",
              "      <th>998</th>\n",
              "      <td>0.0</td>\n",
              "      <td>0.0</td>\n",
              "      <td>1.0</td>\n",
              "      <td>1.0</td>\n",
              "      <td>1.0</td>\n",
              "      <td>0.0</td>\n",
              "      <td>0.0</td>\n",
              "      <td>0.0</td>\n",
              "      <td>1.0</td>\n",
              "      <td>1.0</td>\n",
              "    </tr>\n",
              "    <tr>\n",
              "      <th>999</th>\n",
              "      <td>0.0</td>\n",
              "      <td>0.0</td>\n",
              "      <td>1.0</td>\n",
              "      <td>1.0</td>\n",
              "      <td>1.0</td>\n",
              "      <td>0.0</td>\n",
              "      <td>0.0</td>\n",
              "      <td>0.0</td>\n",
              "      <td>1.0</td>\n",
              "      <td>1.0</td>\n",
              "    </tr>\n",
              "  </tbody>\n",
              "</table>\n",
              "<p>1000 rows × 10 columns</p>\n",
              "</div>\n",
              "      <button class=\"colab-df-convert\" onclick=\"convertToInteractive('df-7a18dd97-2d80-442f-83b8-6a0a414b65ea')\"\n",
              "              title=\"Convert this dataframe to an interactive table.\"\n",
              "              style=\"display:none;\">\n",
              "        \n",
              "  <svg xmlns=\"http://www.w3.org/2000/svg\" height=\"24px\"viewBox=\"0 0 24 24\"\n",
              "       width=\"24px\">\n",
              "    <path d=\"M0 0h24v24H0V0z\" fill=\"none\"/>\n",
              "    <path d=\"M18.56 5.44l.94 2.06.94-2.06 2.06-.94-2.06-.94-.94-2.06-.94 2.06-2.06.94zm-11 1L8.5 8.5l.94-2.06 2.06-.94-2.06-.94L8.5 2.5l-.94 2.06-2.06.94zm10 10l.94 2.06.94-2.06 2.06-.94-2.06-.94-.94-2.06-.94 2.06-2.06.94z\"/><path d=\"M17.41 7.96l-1.37-1.37c-.4-.4-.92-.59-1.43-.59-.52 0-1.04.2-1.43.59L10.3 9.45l-7.72 7.72c-.78.78-.78 2.05 0 2.83L4 21.41c.39.39.9.59 1.41.59.51 0 1.02-.2 1.41-.59l7.78-7.78 2.81-2.81c.8-.78.8-2.07 0-2.86zM5.41 20L4 18.59l7.72-7.72 1.47 1.35L5.41 20z\"/>\n",
              "  </svg>\n",
              "      </button>\n",
              "      \n",
              "  <style>\n",
              "    .colab-df-container {\n",
              "      display:flex;\n",
              "      flex-wrap:wrap;\n",
              "      gap: 12px;\n",
              "    }\n",
              "\n",
              "    .colab-df-convert {\n",
              "      background-color: #E8F0FE;\n",
              "      border: none;\n",
              "      border-radius: 50%;\n",
              "      cursor: pointer;\n",
              "      display: none;\n",
              "      fill: #1967D2;\n",
              "      height: 32px;\n",
              "      padding: 0 0 0 0;\n",
              "      width: 32px;\n",
              "    }\n",
              "\n",
              "    .colab-df-convert:hover {\n",
              "      background-color: #E2EBFA;\n",
              "      box-shadow: 0px 1px 2px rgba(60, 64, 67, 0.3), 0px 1px 3px 1px rgba(60, 64, 67, 0.15);\n",
              "      fill: #174EA6;\n",
              "    }\n",
              "\n",
              "    [theme=dark] .colab-df-convert {\n",
              "      background-color: #3B4455;\n",
              "      fill: #D2E3FC;\n",
              "    }\n",
              "\n",
              "    [theme=dark] .colab-df-convert:hover {\n",
              "      background-color: #434B5C;\n",
              "      box-shadow: 0px 1px 3px 1px rgba(0, 0, 0, 0.15);\n",
              "      filter: drop-shadow(0px 1px 2px rgba(0, 0, 0, 0.3));\n",
              "      fill: #FFFFFF;\n",
              "    }\n",
              "  </style>\n",
              "\n",
              "      <script>\n",
              "        const buttonEl =\n",
              "          document.querySelector('#df-7a18dd97-2d80-442f-83b8-6a0a414b65ea button.colab-df-convert');\n",
              "        buttonEl.style.display =\n",
              "          google.colab.kernel.accessAllowed ? 'block' : 'none';\n",
              "\n",
              "        async function convertToInteractive(key) {\n",
              "          const element = document.querySelector('#df-7a18dd97-2d80-442f-83b8-6a0a414b65ea');\n",
              "          const dataTable =\n",
              "            await google.colab.kernel.invokeFunction('convertToInteractive',\n",
              "                                                     [key], {});\n",
              "          if (!dataTable) return;\n",
              "\n",
              "          const docLinkHtml = 'Like what you see? Visit the ' +\n",
              "            '<a target=\"_blank\" href=https://colab.research.google.com/notebooks/data_table.ipynb>data table notebook</a>'\n",
              "            + ' to learn more about interactive tables.';\n",
              "          element.innerHTML = '';\n",
              "          dataTable['output_type'] = 'display_data';\n",
              "          await google.colab.output.renderOutput(dataTable, element);\n",
              "          const docLink = document.createElement('div');\n",
              "          docLink.innerHTML = docLinkHtml;\n",
              "          element.appendChild(docLink);\n",
              "        }\n",
              "      </script>\n",
              "    </div>\n",
              "  </div>\n",
              "  "
            ]
          },
          "metadata": {},
          "execution_count": 25
        }
      ]
    },
    {
      "cell_type": "markdown",
      "source": [
        "En conclusion, se puede ver que el cambiar el posible valor de los VPN con un riesgo alto, terminara encontrando un resultado igual al primer portafolio encontrado."
      ],
      "metadata": {
        "id": "G90coaqurKa9"
      }
    }
  ]
}